{
 "cells": [
  {
   "cell_type": "markdown",
   "metadata": {},
   "source": [
    "**Sentiment Analysis for Turkish**\n",
    "\n",
    "Merhaba. Bu çalışmada, Kaggle'dan aldığım \"turkish_cyberbullying\" veri setinde, hazır bulunan duygu analizi fonksiyonunu kullanarak sonuç bulmaya çalışacağım. Bu konuda izlediğim yol şu şekildedir:\n",
    "\n",
    "    - Gerekli kütüphane ve verinin indirilmesi\n",
    "    - Veri ön işlemesi (preprocessing) yapılması\n",
    "    - Tweet'lerin İngilizceye çevirilmesi\n",
    "    - Textblob kütüphanesi ile cümlelerin duygu analizinin bulunması\n",
    "    - Veri setinde verilmiş olan duygu analizi ile karşılaştırılması"
   ]
  },
  {
   "cell_type": "code",
   "execution_count": 3,
   "metadata": {},
   "outputs": [],
   "source": [
    "# kütüphanelerin indirilmesi\n",
    "# - *- coding: utf- 8 - *-\n",
    "import pandas as pd\n",
    "import trnlp"
   ]
  },
  {
   "cell_type": "code",
   "execution_count": 4,
   "metadata": {},
   "outputs": [
    {
     "name": "stdout",
     "output_type": "stream",
     "text": [
      "Help on package trnlp:\n",
      "\n",
      "NAME\n",
      "    trnlp\n",
      "\n",
      "PACKAGE CONTENTS\n",
      "    Asciidecoder (package)\n",
      "    Morphological (package)\n",
      "    Statistic (package)\n",
      "    Tokenization (package)\n",
      "    file_processing\n",
      "    helpers\n",
      "    tr_suffix\n",
      "    word_processing\n",
      "\n",
      "FUNCTIONS\n",
      "    deascii(str_grp: str)\n",
      "    \n",
      "    find_stems(word: str)\n",
      "    \n",
      "    find_suffix(word: str)\n",
      "    \n",
      "    ntow(number: str)\n",
      "    \n",
      "    unknown_words(str_grp: str)\n",
      "    \n",
      "    view_statistic(str_grp: str)\n",
      "    \n",
      "    wton(word: str)\n",
      "\n",
      "DATA\n",
      "    clean_quiet = re.compile('[^aâeêıîioôöuûü]')\n",
      "    current_file = 'C:/Users/gmdemirci/trnlp'\n",
      "    lower_quiet = 'bcçdfgğhjklmnprsştvyzqwx'\n",
      "    lower_vowel = 'aâeêıîioôöuûü'\n",
      "\n",
      "FILE\n",
      "    c:\\users\\gmdemirci\\trnlp\\__init__.py\n",
      "\n",
      "\n"
     ]
    }
   ],
   "source": [
    "# trnlp türkçe dil işleme için hazırlanmış olan bir kütüphanedir.\n",
    "# https://github.com/brolin59/PYTHON-TURKCE-DOGAL-DIL-ISLEME-TURKISH-NLP\n",
    "help(trnlp)"
   ]
  },
  {
   "cell_type": "markdown",
   "metadata": {},
   "source": [
    "Verisetinde iki adet başlık bulunuyor. Twitter'da yazılmış olan tweetler (*message*) ve bu tweetin siber zorbalık olup olmadığı (*cyberbullying*). Siber zorbalık olan tweetler 1, olmayanlar 0 olarak alınmış. \n",
    "\n",
    "Bununla birlikte ben de, bulacağım duygu analizinde sıfırdan küçük olanları (negative sentiment) \"0\" olarak, sıfır ve sıfırdan büyük olanları (positive sentiment) \"1\" olarak atayacağım. Böylelikle çeviri ile yapılan duygu analizinde hata matrisini görmüş olacağım."
   ]
  },
  {
   "cell_type": "code",
   "execution_count": 48,
   "metadata": {},
   "outputs": [
    {
     "data": {
      "text/html": [
       "<div>\n",
       "<style scoped>\n",
       "    .dataframe tbody tr th:only-of-type {\n",
       "        vertical-align: middle;\n",
       "    }\n",
       "\n",
       "    .dataframe tbody tr th {\n",
       "        vertical-align: top;\n",
       "    }\n",
       "\n",
       "    .dataframe thead th {\n",
       "        text-align: right;\n",
       "    }\n",
       "</style>\n",
       "<table border=\"1\" class=\"dataframe\">\n",
       "  <thead>\n",
       "    <tr style=\"text-align: right;\">\n",
       "      <th></th>\n",
       "      <th>message</th>\n",
       "      <th>cyberbullying</th>\n",
       "    </tr>\n",
       "  </thead>\n",
       "  <tbody>\n",
       "    <tr>\n",
       "      <th>0</th>\n",
       "      <td>rabbim kalan ömrünü geçen ömründen hayırlı eyl...</td>\n",
       "      <td>0</td>\n",
       "    </tr>\n",
       "    <tr>\n",
       "      <th>1</th>\n",
       "      <td>bir ateist olarak bu resmi gördükçe gözyaşları...</td>\n",
       "      <td>0</td>\n",
       "    </tr>\n",
       "    <tr>\n",
       "      <th>2</th>\n",
       "      <td>oo süpersin azıcık bize de bulaşsa</td>\n",
       "      <td>0</td>\n",
       "    </tr>\n",
       "    <tr>\n",
       "      <th>3</th>\n",
       "      <td>bende biliyorum benden bı bok olmicak</td>\n",
       "      <td>1</td>\n",
       "    </tr>\n",
       "    <tr>\n",
       "      <th>4</th>\n",
       "      <td>nerdesin len tirrek</td>\n",
       "      <td>1</td>\n",
       "    </tr>\n",
       "  </tbody>\n",
       "</table>\n",
       "</div>"
      ],
      "text/plain": [
       "                                             message  cyberbullying\n",
       "0  rabbim kalan ömrünü geçen ömründen hayırlı eyl...              0\n",
       "1  bir ateist olarak bu resmi gördükçe gözyaşları...              0\n",
       "2                 oo süpersin azıcık bize de bulaşsa              0\n",
       "3              bende biliyorum benden bı bok olmicak              1\n",
       "4                                nerdesin len tirrek              1"
      ]
     },
     "execution_count": 48,
     "metadata": {},
     "output_type": "execute_result"
    }
   ],
   "source": [
    "data = pd.read_csv(r\"C:\\Users\\gmdemirci\\Desktop\\GMD\\DATA SCIENCE\\PYTHON\\DATA SETS\\TURKISH CYBERBULLYING\\turkish_cyberbullying.csv\")\n",
    "data.head()"
   ]
  },
  {
   "cell_type": "code",
   "execution_count": 50,
   "metadata": {},
   "outputs": [
    {
     "name": "stdout",
     "output_type": "stream",
     "text": [
      "<class 'pandas.core.frame.DataFrame'>\n",
      "RangeIndex: 3001 entries, 0 to 3000\n",
      "Data columns (total 2 columns):\n",
      "message          3001 non-null object\n",
      "cyberbullying    3001 non-null int64\n",
      "dtypes: int64(1), object(1)\n",
      "memory usage: 47.0+ KB\n"
     ]
    }
   ],
   "source": [
    "data.info() # verisetimizde 3000 adet tweet bulunmaktadır."
   ]
  },
  {
   "cell_type": "markdown",
   "metadata": {},
   "source": [
    "** Metin ön işlemlerimi asıl verinin üzerinde yapmak istemediğimden dolayı, yeni bir sütun oluşturarak message sütununu kopyalayacağım. Veri ön işlememi bu sütun ile yapacağim."
   ]
  },
  {
   "cell_type": "code",
   "execution_count": 51,
   "metadata": {},
   "outputs": [
    {
     "data": {
      "text/html": [
       "<div>\n",
       "<style scoped>\n",
       "    .dataframe tbody tr th:only-of-type {\n",
       "        vertical-align: middle;\n",
       "    }\n",
       "\n",
       "    .dataframe tbody tr th {\n",
       "        vertical-align: top;\n",
       "    }\n",
       "\n",
       "    .dataframe thead th {\n",
       "        text-align: right;\n",
       "    }\n",
       "</style>\n",
       "<table border=\"1\" class=\"dataframe\">\n",
       "  <thead>\n",
       "    <tr style=\"text-align: right;\">\n",
       "      <th></th>\n",
       "      <th>message</th>\n",
       "      <th>cyberbullying</th>\n",
       "      <th>cleaned_text</th>\n",
       "    </tr>\n",
       "  </thead>\n",
       "  <tbody>\n",
       "    <tr>\n",
       "      <th>0</th>\n",
       "      <td>rabbim kalan ömrünü geçen ömründen hayırlı eyl...</td>\n",
       "      <td>0</td>\n",
       "      <td>rabbim kalan ömrünü geçen ömründen hayırlı eyl...</td>\n",
       "    </tr>\n",
       "    <tr>\n",
       "      <th>1</th>\n",
       "      <td>bir ateist olarak bu resmi gördükçe gözyaşları...</td>\n",
       "      <td>0</td>\n",
       "      <td>bir ateist olarak bu resmi gördükçe gözyaşları...</td>\n",
       "    </tr>\n",
       "    <tr>\n",
       "      <th>2</th>\n",
       "      <td>oo süpersin azıcık bize de bulaşsa</td>\n",
       "      <td>0</td>\n",
       "      <td>oo süpersin azıcık bize de bulaşsa</td>\n",
       "    </tr>\n",
       "    <tr>\n",
       "      <th>3</th>\n",
       "      <td>bende biliyorum benden bı bok olmicak</td>\n",
       "      <td>1</td>\n",
       "      <td>bende biliyorum benden bı bok olmicak</td>\n",
       "    </tr>\n",
       "    <tr>\n",
       "      <th>4</th>\n",
       "      <td>nerdesin len tirrek</td>\n",
       "      <td>1</td>\n",
       "      <td>nerdesin len tirrek</td>\n",
       "    </tr>\n",
       "  </tbody>\n",
       "</table>\n",
       "</div>"
      ],
      "text/plain": [
       "                                             message  cyberbullying  \\\n",
       "0  rabbim kalan ömrünü geçen ömründen hayırlı eyl...              0   \n",
       "1  bir ateist olarak bu resmi gördükçe gözyaşları...              0   \n",
       "2                 oo süpersin azıcık bize de bulaşsa              0   \n",
       "3              bende biliyorum benden bı bok olmicak              1   \n",
       "4                                nerdesin len tirrek              1   \n",
       "\n",
       "                                        cleaned_text  \n",
       "0  rabbim kalan ömrünü geçen ömründen hayırlı eyl...  \n",
       "1  bir ateist olarak bu resmi gördükçe gözyaşları...  \n",
       "2                 oo süpersin azıcık bize de bulaşsa  \n",
       "3              bende biliyorum benden bı bok olmicak  \n",
       "4                                nerdesin len tirrek  "
      ]
     },
     "execution_count": 51,
     "metadata": {},
     "output_type": "execute_result"
    }
   ],
   "source": [
    "data[\"cleaned_text\"] = data[\"message\"]\n",
    "data.head()"
   ]
  },
  {
   "cell_type": "code",
   "execution_count": 52,
   "metadata": {},
   "outputs": [
    {
     "data": {
      "text/html": [
       "<div>\n",
       "<style scoped>\n",
       "    .dataframe tbody tr th:only-of-type {\n",
       "        vertical-align: middle;\n",
       "    }\n",
       "\n",
       "    .dataframe tbody tr th {\n",
       "        vertical-align: top;\n",
       "    }\n",
       "\n",
       "    .dataframe thead th {\n",
       "        text-align: right;\n",
       "    }\n",
       "</style>\n",
       "<table border=\"1\" class=\"dataframe\">\n",
       "  <thead>\n",
       "    <tr style=\"text-align: right;\">\n",
       "      <th></th>\n",
       "      <th>message</th>\n",
       "      <th>cyberbullying</th>\n",
       "      <th>cleaned_text</th>\n",
       "    </tr>\n",
       "  </thead>\n",
       "  <tbody>\n",
       "    <tr>\n",
       "      <th>0</th>\n",
       "      <td>rabbim kalan ömrünü geçen ömründen hayırlı eyl...</td>\n",
       "      <td>0</td>\n",
       "      <td>rabbim kalan ömrünü geçen ömründen hayırlı eyl...</td>\n",
       "    </tr>\n",
       "    <tr>\n",
       "      <th>1</th>\n",
       "      <td>bir ateist olarak bu resmi gördükçe gözyaşları...</td>\n",
       "      <td>0</td>\n",
       "      <td>bir ateist olarak bu resmi gördükçe gözyaşları...</td>\n",
       "    </tr>\n",
       "    <tr>\n",
       "      <th>2</th>\n",
       "      <td>oo süpersin azıcık bize de bulaşsa</td>\n",
       "      <td>0</td>\n",
       "      <td>oo süpersin azıcık bize de bulaşsa</td>\n",
       "    </tr>\n",
       "    <tr>\n",
       "      <th>3</th>\n",
       "      <td>bende biliyorum benden bı bok olmicak</td>\n",
       "      <td>1</td>\n",
       "      <td>bende biliyorum benden bı bok olmicak</td>\n",
       "    </tr>\n",
       "    <tr>\n",
       "      <th>4</th>\n",
       "      <td>nerdesin len tirrek</td>\n",
       "      <td>1</td>\n",
       "      <td>nerdesin len tirrek</td>\n",
       "    </tr>\n",
       "  </tbody>\n",
       "</table>\n",
       "</div>"
      ],
      "text/plain": [
       "                                             message  cyberbullying  \\\n",
       "0  rabbim kalan ömrünü geçen ömründen hayırlı eyl...              0   \n",
       "1  bir ateist olarak bu resmi gördükçe gözyaşları...              0   \n",
       "2                 oo süpersin azıcık bize de bulaşsa              0   \n",
       "3              bende biliyorum benden bı bok olmicak              1   \n",
       "4                                nerdesin len tirrek              1   \n",
       "\n",
       "                                        cleaned_text  \n",
       "0  rabbim kalan ömrünü geçen ömründen hayırlı eyl...  \n",
       "1  bir ateist olarak bu resmi gördükçe gözyaşları...  \n",
       "2                 oo süpersin azıcık bize de bulaşsa  \n",
       "3              bende biliyorum benden bı bok olmicak  \n",
       "4                                nerdesin len tirrek  "
      ]
     },
     "execution_count": 52,
     "metadata": {},
     "output_type": "execute_result"
    }
   ],
   "source": [
    "\"\"\" DATA PREPROCESSING\"\"\"\n",
    "# 1) tüm kelimeleri küçük harf yapma\n",
    "data.cleaned_text = [each.lower() for each in data.cleaned_text]\n",
    "data.head()"
   ]
  },
  {
   "cell_type": "code",
   "execution_count": 53,
   "metadata": {},
   "outputs": [
    {
     "data": {
      "text/html": [
       "<div>\n",
       "<style scoped>\n",
       "    .dataframe tbody tr th:only-of-type {\n",
       "        vertical-align: middle;\n",
       "    }\n",
       "\n",
       "    .dataframe tbody tr th {\n",
       "        vertical-align: top;\n",
       "    }\n",
       "\n",
       "    .dataframe thead th {\n",
       "        text-align: right;\n",
       "    }\n",
       "</style>\n",
       "<table border=\"1\" class=\"dataframe\">\n",
       "  <thead>\n",
       "    <tr style=\"text-align: right;\">\n",
       "      <th></th>\n",
       "      <th>message</th>\n",
       "      <th>cyberbullying</th>\n",
       "      <th>cleaned_text</th>\n",
       "    </tr>\n",
       "  </thead>\n",
       "  <tbody>\n",
       "    <tr>\n",
       "      <th>0</th>\n",
       "      <td>rabbim kalan ömrünü geçen ömründen hayırlı eyl...</td>\n",
       "      <td>0</td>\n",
       "      <td>rabbim kalan ömrünü geçen ömründen hayırlı eyl...</td>\n",
       "    </tr>\n",
       "    <tr>\n",
       "      <th>1</th>\n",
       "      <td>bir ateist olarak bu resmi gördükçe gözyaşları...</td>\n",
       "      <td>0</td>\n",
       "      <td>bir ateist olarak bu resmi gördükçe gözyaşları...</td>\n",
       "    </tr>\n",
       "    <tr>\n",
       "      <th>2</th>\n",
       "      <td>oo süpersin azıcık bize de bulaşsa</td>\n",
       "      <td>0</td>\n",
       "      <td>oo süpersin azıcık bize de bulaşsa</td>\n",
       "    </tr>\n",
       "    <tr>\n",
       "      <th>3</th>\n",
       "      <td>bende biliyorum benden bı bok olmicak</td>\n",
       "      <td>1</td>\n",
       "      <td>bende biliyorum benden bı bok olmicak</td>\n",
       "    </tr>\n",
       "    <tr>\n",
       "      <th>4</th>\n",
       "      <td>nerdesin len tirrek</td>\n",
       "      <td>1</td>\n",
       "      <td>nerdesin len tirrek</td>\n",
       "    </tr>\n",
       "  </tbody>\n",
       "</table>\n",
       "</div>"
      ],
      "text/plain": [
       "                                             message  cyberbullying  \\\n",
       "0  rabbim kalan ömrünü geçen ömründen hayırlı eyl...              0   \n",
       "1  bir ateist olarak bu resmi gördükçe gözyaşları...              0   \n",
       "2                 oo süpersin azıcık bize de bulaşsa              0   \n",
       "3              bende biliyorum benden bı bok olmicak              1   \n",
       "4                                nerdesin len tirrek              1   \n",
       "\n",
       "                                        cleaned_text  \n",
       "0  rabbim kalan ömrünü geçen ömründen hayırlı eyl...  \n",
       "1  bir ateist olarak bu resmi gördükçe gözyaşları...  \n",
       "2                 oo süpersin azıcık bize de bulaşsa  \n",
       "3              bende biliyorum benden bı bok olmicak  \n",
       "4                                nerdesin len tirrek  "
      ]
     },
     "execution_count": 53,
     "metadata": {},
     "output_type": "execute_result"
    }
   ],
   "source": [
    "# 2) noktalama işaretlerini silme\n",
    "# re kütüphanesi ile silme, yerine başka kelime getirme gibi cümle düzenlemesi yapılabilmektedir\n",
    "import re\n",
    "\n",
    "data.cleaned_text = [re.sub(r'[!”\"#$%&’()*+,-./:;<=>?@[\\]''^_`{|}~]','',each) \n",
    "                     if type(each) == str else each for each in data.cleaned_text]\n",
    "data.head()"
   ]
  },
  {
   "cell_type": "code",
   "execution_count": 54,
   "metadata": {},
   "outputs": [
    {
     "data": {
      "text/html": [
       "<div>\n",
       "<style scoped>\n",
       "    .dataframe tbody tr th:only-of-type {\n",
       "        vertical-align: middle;\n",
       "    }\n",
       "\n",
       "    .dataframe tbody tr th {\n",
       "        vertical-align: top;\n",
       "    }\n",
       "\n",
       "    .dataframe thead th {\n",
       "        text-align: right;\n",
       "    }\n",
       "</style>\n",
       "<table border=\"1\" class=\"dataframe\">\n",
       "  <thead>\n",
       "    <tr style=\"text-align: right;\">\n",
       "      <th></th>\n",
       "      <th>message</th>\n",
       "      <th>cyberbullying</th>\n",
       "      <th>cleaned_text</th>\n",
       "    </tr>\n",
       "  </thead>\n",
       "  <tbody>\n",
       "    <tr>\n",
       "      <th>0</th>\n",
       "      <td>rabbim kalan ömrünü geçen ömründen hayırlı eyl...</td>\n",
       "      <td>0</td>\n",
       "      <td>rabbim kalan ömrünü geçen ömründen hayırlı eyl...</td>\n",
       "    </tr>\n",
       "    <tr>\n",
       "      <th>1</th>\n",
       "      <td>bir ateist olarak bu resmi gördükçe gözyaşları...</td>\n",
       "      <td>0</td>\n",
       "      <td>bir ateist olarak bu resmi gördükçe gözyaşları...</td>\n",
       "    </tr>\n",
       "    <tr>\n",
       "      <th>2</th>\n",
       "      <td>oo süpersin azıcık bize de bulaşsa</td>\n",
       "      <td>0</td>\n",
       "      <td>oo süpersin azıcık bize de bulaşsa</td>\n",
       "    </tr>\n",
       "    <tr>\n",
       "      <th>3</th>\n",
       "      <td>bende biliyorum benden bı bok olmicak</td>\n",
       "      <td>1</td>\n",
       "      <td>bende biliyorum benden bı bok olmicak</td>\n",
       "    </tr>\n",
       "    <tr>\n",
       "      <th>4</th>\n",
       "      <td>nerdesin len tirrek</td>\n",
       "      <td>1</td>\n",
       "      <td>nerdesin len tirrek</td>\n",
       "    </tr>\n",
       "  </tbody>\n",
       "</table>\n",
       "</div>"
      ],
      "text/plain": [
       "                                             message  cyberbullying  \\\n",
       "0  rabbim kalan ömrünü geçen ömründen hayırlı eyl...              0   \n",
       "1  bir ateist olarak bu resmi gördükçe gözyaşları...              0   \n",
       "2                 oo süpersin azıcık bize de bulaşsa              0   \n",
       "3              bende biliyorum benden bı bok olmicak              1   \n",
       "4                                nerdesin len tirrek              1   \n",
       "\n",
       "                                        cleaned_text  \n",
       "0  rabbim kalan ömrünü geçen ömründen hayırlı eyl...  \n",
       "1  bir ateist olarak bu resmi gördükçe gözyaşları...  \n",
       "2                 oo süpersin azıcık bize de bulaşsa  \n",
       "3              bende biliyorum benden bı bok olmicak  \n",
       "4                                nerdesin len tirrek  "
      ]
     },
     "execution_count": 54,
     "metadata": {},
     "output_type": "execute_result"
    }
   ],
   "source": [
    "# 3) sayıları silme\n",
    "data.cleaned_text = [re.sub(r'\\d+','',each) for each in data.cleaned_text]\n",
    "data.head()"
   ]
  },
  {
   "cell_type": "markdown",
   "metadata": {},
   "source": [
    "*** Türkçe nlp olan \"trnlp\" paketinin *deascii* metodu kullanılarak türkçe karakter ile yazılmamış kelimeleri tamamlayacağız. \"ozur\" yerine \"özür\" gibi."
   ]
  },
  {
   "cell_type": "code",
   "execution_count": 55,
   "metadata": {},
   "outputs": [
    {
     "data": {
      "text/html": [
       "<div>\n",
       "<style scoped>\n",
       "    .dataframe tbody tr th:only-of-type {\n",
       "        vertical-align: middle;\n",
       "    }\n",
       "\n",
       "    .dataframe tbody tr th {\n",
       "        vertical-align: top;\n",
       "    }\n",
       "\n",
       "    .dataframe thead th {\n",
       "        text-align: right;\n",
       "    }\n",
       "</style>\n",
       "<table border=\"1\" class=\"dataframe\">\n",
       "  <thead>\n",
       "    <tr style=\"text-align: right;\">\n",
       "      <th></th>\n",
       "      <th>message</th>\n",
       "      <th>cyberbullying</th>\n",
       "      <th>cleaned_text</th>\n",
       "    </tr>\n",
       "  </thead>\n",
       "  <tbody>\n",
       "    <tr>\n",
       "      <th>0</th>\n",
       "      <td>rabbim kalan ömrünü geçen ömründen hayırlı eyl...</td>\n",
       "      <td>0</td>\n",
       "      <td>rabbim kalan ömrünü geçen ömründen hayırlı eyl...</td>\n",
       "    </tr>\n",
       "    <tr>\n",
       "      <th>1</th>\n",
       "      <td>bir ateist olarak bu resmi gördükçe gözyaşları...</td>\n",
       "      <td>0</td>\n",
       "      <td>bir ateist olarak bu resmi gördükçe gözyaşları...</td>\n",
       "    </tr>\n",
       "    <tr>\n",
       "      <th>2</th>\n",
       "      <td>oo süpersin azıcık bize de bulaşsa</td>\n",
       "      <td>0</td>\n",
       "      <td>oo süpersin azıcık bize de bulaşsa</td>\n",
       "    </tr>\n",
       "    <tr>\n",
       "      <th>3</th>\n",
       "      <td>bende biliyorum benden bı bok olmicak</td>\n",
       "      <td>1</td>\n",
       "      <td>bende biliyorum benden bi bok olmıçak</td>\n",
       "    </tr>\n",
       "    <tr>\n",
       "      <th>4</th>\n",
       "      <td>nerdesin len tirrek</td>\n",
       "      <td>1</td>\n",
       "      <td>nerdesin len tirrek</td>\n",
       "    </tr>\n",
       "  </tbody>\n",
       "</table>\n",
       "</div>"
      ],
      "text/plain": [
       "                                             message  cyberbullying  \\\n",
       "0  rabbim kalan ömrünü geçen ömründen hayırlı eyl...              0   \n",
       "1  bir ateist olarak bu resmi gördükçe gözyaşları...              0   \n",
       "2                 oo süpersin azıcık bize de bulaşsa              0   \n",
       "3              bende biliyorum benden bı bok olmicak              1   \n",
       "4                                nerdesin len tirrek              1   \n",
       "\n",
       "                                        cleaned_text  \n",
       "0  rabbim kalan ömrünü geçen ömründen hayırlı eyl...  \n",
       "1  bir ateist olarak bu resmi gördükçe gözyaşları...  \n",
       "2                 oo süpersin azıcık bize de bulaşsa  \n",
       "3              bende biliyorum benden bi bok olmıçak  \n",
       "4                                nerdesin len tirrek  "
      ]
     },
     "execution_count": 55,
     "metadata": {},
     "output_type": "execute_result"
    }
   ],
   "source": [
    "# 4) Türkçe kelime normalizasyonu\n",
    "data.cleaned_text = [trnlp.deascii(each) for each in data.cleaned_text]\n",
    "data.head()"
   ]
  },
  {
   "cell_type": "code",
   "execution_count": 56,
   "metadata": {},
   "outputs": [],
   "source": [
    "# # 4) metin tokenization\n",
    "# tokenized_text = data[\"cleaned_text\"].apply(lambda x: trnlp.token(x))\n",
    "# tokenized_text.head()"
   ]
  },
  {
   "cell_type": "markdown",
   "metadata": {},
   "source": [
    "Bu çalışmadaki duygu analizi fonksiyon bazlıdır. Makine öğrenmesi bulunmamaktadır. Textblob kütüphanesindeki önceden yazılmış metod ile ilerleyeceğim. Ancak textblob duygu analizinde Türkçe duygu analizi bulunmamaktadır. Bundan dolayı, verisetindeki cümleleri \"Google Translate API\" ile İngilizce'ye çevirerek duygu analizi yapacağım.\n",
    "\n",
    "Böylelikle, Türkçe'de henüz tam oturtulmamış duygu analizi fonksiyon eksikliğini bu şekilde tamamlayıp tamamlayamadığımızı görmüş olacağım. "
   ]
  },
  {
   "cell_type": "code",
   "execution_count": 101,
   "metadata": {},
   "outputs": [
    {
     "data": {
      "text/plain": [
       "['rabbim kalan ömrünü geçen ömründen hayırlı eylesin',\n",
       " 'bir ateist olarak bu resmi gördükçe gözyaşlarıma mani olamıyorum',\n",
       " 'oo süpersin azıcık bize de bulaşsa',\n",
       " 'bende biliyorum benden bi bok olmıçak',\n",
       " 'nerdesin len tirrek',\n",
       " 'doğruyusöyleyince kadro verince adalet yerini bulacak',\n",
       " 'öğrenciler hocalarına memleket duruşuna hayran ',\n",
       " 'günaydın hala yatakta olanlar eminim elinizde telefon aletinizde tad gibidir hadi sanalda sabah keyfi yapalım',\n",
       " 'artist pezevenk takımı yaktı rezildi',\n",
       " 've o narinlikte ve sevimlilikte cüce öylesine acımasızca zibh eğliyip']"
      ]
     },
     "execution_count": 101,
     "metadata": {},
     "output_type": "execute_result"
    }
   ],
   "source": [
    "# 5) Cümleleri İngilizce diline çevirme\n",
    "    # a. Çeviri için dataframe'i Listeye çevirme\n",
    "translate_list = list(data.cleaned_text[0:3000])\n",
    "translate_list[0:10]"
   ]
  },
  {
   "cell_type": "code",
   "execution_count": 102,
   "metadata": {},
   "outputs": [],
   "source": [
    "# 5) Cümleleri İngilizce diline çevirme\n",
    "    # b. google.cloud ile çeviriyi yapma  \n",
    "# - *- coding: utf- 8 - *-\n",
    "\n",
    "from google.cloud import translate\n",
    "translate_client = translate.Client()\n",
    "translation = [ translate_client.translate(each,target_language=\"en\") for each in translate_list]"
   ]
  },
  {
   "cell_type": "markdown",
   "metadata": {},
   "source": [
    "* ** 3000 adet satır 13 dakika içerisinde çevirisi yapılmıştır. **"
   ]
  },
  {
   "cell_type": "code",
   "execution_count": 103,
   "metadata": {},
   "outputs": [
    {
     "data": {
      "text/html": [
       "<div>\n",
       "<style scoped>\n",
       "    .dataframe tbody tr th:only-of-type {\n",
       "        vertical-align: middle;\n",
       "    }\n",
       "\n",
       "    .dataframe tbody tr th {\n",
       "        vertical-align: top;\n",
       "    }\n",
       "\n",
       "    .dataframe thead th {\n",
       "        text-align: right;\n",
       "    }\n",
       "</style>\n",
       "<table border=\"1\" class=\"dataframe\">\n",
       "  <thead>\n",
       "    <tr style=\"text-align: right;\">\n",
       "      <th></th>\n",
       "      <th>detectedSourceLanguage</th>\n",
       "      <th>input</th>\n",
       "      <th>translatedText</th>\n",
       "    </tr>\n",
       "  </thead>\n",
       "  <tbody>\n",
       "    <tr>\n",
       "      <th>0</th>\n",
       "      <td>tr</td>\n",
       "      <td>rabbim kalan ömrünü geçen ömründen hayırlı eyl...</td>\n",
       "      <td>rabbim remaining lifetime</td>\n",
       "    </tr>\n",
       "    <tr>\n",
       "      <th>1</th>\n",
       "      <td>tr</td>\n",
       "      <td>bir ateist olarak bu resmi gördükçe gözyaşları...</td>\n",
       "      <td>as an atheist I can&amp;#39;t stop my tears as I s...</td>\n",
       "    </tr>\n",
       "    <tr>\n",
       "      <th>2</th>\n",
       "      <td>tr</td>\n",
       "      <td>oo süpersin azıcık bize de bulaşsa</td>\n",
       "      <td>If you&amp;#39;re a super-junkie</td>\n",
       "    </tr>\n",
       "    <tr>\n",
       "      <th>3</th>\n",
       "      <td>tr</td>\n",
       "      <td>bende biliyorum benden bi bok olmıçak</td>\n",
       "      <td>I know I&amp;#39;m a fucking shit.</td>\n",
       "    </tr>\n",
       "    <tr>\n",
       "      <th>4</th>\n",
       "      <td>tr</td>\n",
       "      <td>nerdesin len tirrek</td>\n",
       "      <td>Where are you?</td>\n",
       "    </tr>\n",
       "  </tbody>\n",
       "</table>\n",
       "</div>"
      ],
      "text/plain": [
       "  detectedSourceLanguage                                              input  \\\n",
       "0                     tr  rabbim kalan ömrünü geçen ömründen hayırlı eyl...   \n",
       "1                     tr  bir ateist olarak bu resmi gördükçe gözyaşları...   \n",
       "2                     tr                 oo süpersin azıcık bize de bulaşsa   \n",
       "3                     tr              bende biliyorum benden bi bok olmıçak   \n",
       "4                     tr                                nerdesin len tirrek   \n",
       "\n",
       "                                      translatedText  \n",
       "0                          rabbim remaining lifetime  \n",
       "1  as an atheist I can&#39;t stop my tears as I s...  \n",
       "2                       If you&#39;re a super-junkie  \n",
       "3                     I know I&#39;m a fucking shit.  \n",
       "4                                     Where are you?  "
      ]
     },
     "execution_count": 103,
     "metadata": {},
     "output_type": "execute_result"
    }
   ],
   "source": [
    "# çevrilen dil, çevirilen cümle ve çevirisi olarak çıktı verdi.\n",
    "translation = pd.DataFrame(translation)\n",
    "translation.head()"
   ]
  },
  {
   "cell_type": "markdown",
   "metadata": {},
   "source": [
    "** Benim ihtiyacım olan, sadece İngilizce cümle. Bundan dolayı diğer sütunları listemden çıkarıyorum."
   ]
  },
  {
   "cell_type": "code",
   "execution_count": 104,
   "metadata": {},
   "outputs": [
    {
     "data": {
      "text/html": [
       "<div>\n",
       "<style scoped>\n",
       "    .dataframe tbody tr th:only-of-type {\n",
       "        vertical-align: middle;\n",
       "    }\n",
       "\n",
       "    .dataframe tbody tr th {\n",
       "        vertical-align: top;\n",
       "    }\n",
       "\n",
       "    .dataframe thead th {\n",
       "        text-align: right;\n",
       "    }\n",
       "</style>\n",
       "<table border=\"1\" class=\"dataframe\">\n",
       "  <thead>\n",
       "    <tr style=\"text-align: right;\">\n",
       "      <th></th>\n",
       "      <th>translatedText</th>\n",
       "    </tr>\n",
       "  </thead>\n",
       "  <tbody>\n",
       "    <tr>\n",
       "      <th>0</th>\n",
       "      <td>rabbim remaining lifetime</td>\n",
       "    </tr>\n",
       "    <tr>\n",
       "      <th>1</th>\n",
       "      <td>as an atheist I can&amp;#39;t stop my tears as I s...</td>\n",
       "    </tr>\n",
       "    <tr>\n",
       "      <th>2</th>\n",
       "      <td>If you&amp;#39;re a super-junkie</td>\n",
       "    </tr>\n",
       "    <tr>\n",
       "      <th>3</th>\n",
       "      <td>I know I&amp;#39;m a fucking shit.</td>\n",
       "    </tr>\n",
       "    <tr>\n",
       "      <th>4</th>\n",
       "      <td>Where are you?</td>\n",
       "    </tr>\n",
       "  </tbody>\n",
       "</table>\n",
       "</div>"
      ],
      "text/plain": [
       "                                      translatedText\n",
       "0                          rabbim remaining lifetime\n",
       "1  as an atheist I can&#39;t stop my tears as I s...\n",
       "2                       If you&#39;re a super-junkie\n",
       "3                     I know I&#39;m a fucking shit.\n",
       "4                                     Where are you?"
      ]
     },
     "execution_count": 104,
     "metadata": {},
     "output_type": "execute_result"
    }
   ],
   "source": [
    "translation.drop(\"detectedSourceLanguage\", axis=1,inplace=True)\n",
    "translation.drop(\"input\", axis=1,inplace=True)\n",
    "translation.head()"
   ]
  },
  {
   "cell_type": "markdown",
   "metadata": {},
   "source": [
    "** Çeviri sırasında utf-8 sıkıntısı yaşandı. kesme işareti (') (&#39 ;) olarak gösterilmektedir. Bunu düzeltmek adına, tekrardan re kütüphanesini kullanıyorum."
   ]
  },
  {
   "cell_type": "code",
   "execution_count": 105,
   "metadata": {},
   "outputs": [
    {
     "data": {
      "text/html": [
       "<div>\n",
       "<style scoped>\n",
       "    .dataframe tbody tr th:only-of-type {\n",
       "        vertical-align: middle;\n",
       "    }\n",
       "\n",
       "    .dataframe tbody tr th {\n",
       "        vertical-align: top;\n",
       "    }\n",
       "\n",
       "    .dataframe thead th {\n",
       "        text-align: right;\n",
       "    }\n",
       "</style>\n",
       "<table border=\"1\" class=\"dataframe\">\n",
       "  <thead>\n",
       "    <tr style=\"text-align: right;\">\n",
       "      <th></th>\n",
       "      <th>translatedText</th>\n",
       "    </tr>\n",
       "  </thead>\n",
       "  <tbody>\n",
       "    <tr>\n",
       "      <th>0</th>\n",
       "      <td>rabbim remaining lifetime</td>\n",
       "    </tr>\n",
       "    <tr>\n",
       "      <th>1</th>\n",
       "      <td>as an atheist I can't stop my tears as I see t...</td>\n",
       "    </tr>\n",
       "    <tr>\n",
       "      <th>2</th>\n",
       "      <td>If you're a super-junkie</td>\n",
       "    </tr>\n",
       "    <tr>\n",
       "      <th>3</th>\n",
       "      <td>I know I'm a fucking shit.</td>\n",
       "    </tr>\n",
       "    <tr>\n",
       "      <th>4</th>\n",
       "      <td>Where are you?</td>\n",
       "    </tr>\n",
       "  </tbody>\n",
       "</table>\n",
       "</div>"
      ],
      "text/plain": [
       "                                      translatedText\n",
       "0                          rabbim remaining lifetime\n",
       "1  as an atheist I can't stop my tears as I see t...\n",
       "2                           If you're a super-junkie\n",
       "3                         I know I'm a fucking shit.\n",
       "4                                     Where are you?"
      ]
     },
     "execution_count": 105,
     "metadata": {},
     "output_type": "execute_result"
    }
   ],
   "source": [
    "translation.translatedText = [re.sub(\"&#39;\",\"'\",each) \n",
    "                     if type(each) == str else each for each in translation.translatedText]\n",
    "translation.head()"
   ]
  },
  {
   "cell_type": "markdown",
   "metadata": {},
   "source": [
    "** Duygu analizi için cümleler liste ile verilmeli. Bundan dolayı, Dataframe'mi listeye çevirerek analizi yapıyorum."
   ]
  },
  {
   "cell_type": "code",
   "execution_count": 106,
   "metadata": {},
   "outputs": [
    {
     "data": {
      "text/plain": [
       "[0.0,\n",
       " 0.0,\n",
       " 0.0,\n",
       " -0.2,\n",
       " 0.0,\n",
       " 0.0,\n",
       " 0.0,\n",
       " 0.5333333333333333,\n",
       " 0.0,\n",
       " -0.21666666666666665]"
      ]
     },
     "execution_count": 106,
     "metadata": {},
     "output_type": "execute_result"
    }
   ],
   "source": [
    "from textblob import TextBlob\n",
    "sentiment = translation['translatedText'].values.tolist()\n",
    "sentiment = [TextBlob(each).sentiment.polarity for each in sentiment]\n",
    "sentiment[0:10]"
   ]
  },
  {
   "cell_type": "markdown",
   "metadata": {},
   "source": [
    "Şimdi, veriseti ile gelmiş olan cyberbullying ile bizim bulduğumuz duygu analizini aynı tabloya koyacağım, ancak öncesinde duygu analizinde çıkan sayıları 1 ve 0 olarak ayarlayalım. \n",
    "\n",
    "** Negatif olanlar 0, sıfır ve pozitif olanları 1 olarak atıyoruz."
   ]
  },
  {
   "cell_type": "code",
   "execution_count": 108,
   "metadata": {},
   "outputs": [
    {
     "data": {
      "text/html": [
       "<div>\n",
       "<style scoped>\n",
       "    .dataframe tbody tr th:only-of-type {\n",
       "        vertical-align: middle;\n",
       "    }\n",
       "\n",
       "    .dataframe tbody tr th {\n",
       "        vertical-align: top;\n",
       "    }\n",
       "\n",
       "    .dataframe thead th {\n",
       "        text-align: right;\n",
       "    }\n",
       "</style>\n",
       "<table border=\"1\" class=\"dataframe\">\n",
       "  <thead>\n",
       "    <tr style=\"text-align: right;\">\n",
       "      <th></th>\n",
       "      <th>0</th>\n",
       "      <th>cyberbullying</th>\n",
       "    </tr>\n",
       "  </thead>\n",
       "  <tbody>\n",
       "    <tr>\n",
       "      <th>0</th>\n",
       "      <td>0</td>\n",
       "      <td>0</td>\n",
       "    </tr>\n",
       "    <tr>\n",
       "      <th>1</th>\n",
       "      <td>0</td>\n",
       "      <td>0</td>\n",
       "    </tr>\n",
       "    <tr>\n",
       "      <th>2</th>\n",
       "      <td>0</td>\n",
       "      <td>0</td>\n",
       "    </tr>\n",
       "    <tr>\n",
       "      <th>3</th>\n",
       "      <td>1</td>\n",
       "      <td>1</td>\n",
       "    </tr>\n",
       "    <tr>\n",
       "      <th>4</th>\n",
       "      <td>0</td>\n",
       "      <td>1</td>\n",
       "    </tr>\n",
       "  </tbody>\n",
       "</table>\n",
       "</div>"
      ],
      "text/plain": [
       "   0  cyberbullying\n",
       "0  0              0\n",
       "1  0              0\n",
       "2  0              0\n",
       "3  1              1\n",
       "4  0              1"
      ]
     },
     "execution_count": 108,
     "metadata": {},
     "output_type": "execute_result"
    }
   ],
   "source": [
    "duygu = []\n",
    "\n",
    "for row in sentiment:\n",
    "    if row < 0:\n",
    "        # Append a 1\n",
    "        duygu.append(1)\n",
    "    else:\n",
    "        duygu.append(0)\n",
    "\n",
    "translated = pd.DataFrame(duygu)    \n",
    "translated[\"cyberbullying\"] = data.cyberbullying[0:3000]\n",
    "translated.head()"
   ]
  },
  {
   "cell_type": "code",
   "execution_count": 113,
   "metadata": {},
   "outputs": [
    {
     "data": {
      "text/html": [
       "<div>\n",
       "<style scoped>\n",
       "    .dataframe tbody tr th:only-of-type {\n",
       "        vertical-align: middle;\n",
       "    }\n",
       "\n",
       "    .dataframe tbody tr th {\n",
       "        vertical-align: top;\n",
       "    }\n",
       "\n",
       "    .dataframe thead tr th {\n",
       "        text-align: left;\n",
       "    }\n",
       "</style>\n",
       "<table border=\"1\" class=\"dataframe\">\n",
       "  <thead>\n",
       "    <tr>\n",
       "      <th></th>\n",
       "      <th>duygu_analizi</th>\n",
       "      <th>cyberbullying</th>\n",
       "    </tr>\n",
       "  </thead>\n",
       "  <tbody>\n",
       "    <tr>\n",
       "      <th>0</th>\n",
       "      <td>0</td>\n",
       "      <td>0</td>\n",
       "    </tr>\n",
       "    <tr>\n",
       "      <th>1</th>\n",
       "      <td>0</td>\n",
       "      <td>0</td>\n",
       "    </tr>\n",
       "    <tr>\n",
       "      <th>2</th>\n",
       "      <td>0</td>\n",
       "      <td>0</td>\n",
       "    </tr>\n",
       "    <tr>\n",
       "      <th>3</th>\n",
       "      <td>1</td>\n",
       "      <td>1</td>\n",
       "    </tr>\n",
       "    <tr>\n",
       "      <th>4</th>\n",
       "      <td>0</td>\n",
       "      <td>1</td>\n",
       "    </tr>\n",
       "  </tbody>\n",
       "</table>\n",
       "</div>"
      ],
      "text/plain": [
       "  duygu_analizi cyberbullying\n",
       "0             0             0\n",
       "1             0             0\n",
       "2             0             0\n",
       "3             1             1\n",
       "4             0             1"
      ]
     },
     "execution_count": 113,
     "metadata": {},
     "output_type": "execute_result"
    }
   ],
   "source": [
    "# sütun isimlerini değiştiriyorum\n",
    "translated.columns = [[\"duygu_analizi\",\"cyberbullying\"]]\n",
    "translated.head()"
   ]
  },
  {
   "cell_type": "markdown",
   "metadata": {},
   "source": [
    "** 3000 satır tweet'imizin çevirisi yapılıp, duygu analizine girmiştir. "
   ]
  },
  {
   "cell_type": "code",
   "execution_count": 110,
   "metadata": {},
   "outputs": [
    {
     "name": "stdout",
     "output_type": "stream",
     "text": [
      "<class 'pandas.core.frame.DataFrame'>\n",
      "RangeIndex: 3000 entries, 0 to 2999\n",
      "Data columns (total 2 columns):\n",
      "(duygu_analizi,)    3000 non-null int64\n",
      "(cyberbullying,)    3000 non-null int64\n",
      "dtypes: int64(2)\n",
      "memory usage: 47.0 KB\n"
     ]
    }
   ],
   "source": [
    "translated.info()"
   ]
  },
  {
   "cell_type": "markdown",
   "metadata": {},
   "source": [
    "** 3000 veri için doğruluk testi yaparak, bu işlemin uygulanabilir olup olmadığına bakalım:"
   ]
  },
  {
   "cell_type": "code",
   "execution_count": 115,
   "metadata": {},
   "outputs": [
    {
     "name": "stdout",
     "output_type": "stream",
     "text": [
      "Accuracy: % 54.666667\n"
     ]
    }
   ],
   "source": [
    "from sklearn.metrics import accuracy_score\n",
    "\n",
    "accuracy = accuracy_score(y_true=translated.cyberbullying, y_pred=translated.duygu_analizi)\n",
    "print(\"Accuracy: % {:3f}\".format(accuracy*100)) "
   ]
  },
  {
   "cell_type": "markdown",
   "metadata": {},
   "source": [
    "%54,67 bizim çalışmamız için çok düşük bence. Doğruluk yüzdesinin bu kadar düşük olmasının sebeplerinden en önemlisi, verinin ön işlemesi için kullandığım **trnlp** kütüphanesinin yeterli olmaması diye düşünüyorum. Cümlelerdeki kelimeleri doğru normalizasyon yapamadığımız için çevirisi de tamamen yanlış oldu haliyle doğruluğu tutmadı. \n",
    "\n",
    "Türkçe için Textblob gibi duygu analizi fonksiyonu bulunmuyor şu ana kadar araştırdığım kadarıyla. Genelde duygu analizi için denetimli makine öğrenmesi kullanılıyor. Bunun için aldığım veri setlerinden bir kısmını train olarak kendim puan vermeliyim, ancak bu da yeterli doğruluk vermeyecektir sanırım.\n",
    "\n",
    "Bag of words, Word2ve-doc2vec metodlarını kullanarak kelime ağırlığına göre analiz yapılıyor. Bunları deneyerek en verimlisini bulmayı hedefliyorum. Geri dönüş ve önerilerinizi dört gözle bekliyorum. Teşekkürler.\n",
    "\n",
    "                                                                                                                      Gözde"
   ]
  }
 ],
 "metadata": {
  "kernelspec": {
   "display_name": "Python 3",
   "language": "python",
   "name": "python3"
  },
  "language_info": {
   "codemirror_mode": {
    "name": "ipython",
    "version": 3
   },
   "file_extension": ".py",
   "mimetype": "text/x-python",
   "name": "python",
   "nbconvert_exporter": "python",
   "pygments_lexer": "ipython3",
   "version": "3.7.1"
  }
 },
 "nbformat": 4,
 "nbformat_minor": 2
}
